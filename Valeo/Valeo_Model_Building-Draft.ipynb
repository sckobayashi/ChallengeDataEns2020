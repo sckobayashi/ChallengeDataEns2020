{
 "cells": [
  {
   "cell_type": "markdown",
   "metadata": {},
   "source": [
    "# Defect Prediction on production lines by VALEO\n",
    "# Challenge context\n",
    "Valeo is a French global automotive supplier headquartered in France, listed on the Paris Stock Exchange (CAC-40 Index). It supplies a wide range of products to automakers and the aftermarket. The Group employs 113,600 people in 33 countries worldwide. It has 186 production plants, 59 R&D centers and 15 distribution platforms. Its strategy is focused on innovation and development in high-growth potential regions and emerging countries. Valeo ranked as France's leading patent filer from 2016 to 2018.\n",
    " \n",
    "# Challenge goals\n",
    "The goal of the challenge is to predict defect on starter motor production lines. During production samples assembly, different values (torques, angles ...) are measured on different mounting stations. At the end of the line, additional measures are performed on two test benches in order to isolate defects. As a result, samples are tagged ‘OK’, ‘KO’. We would like to design a model that could identify such defects before the test bench step.\n",
    "\n",
    "# Data description\n",
    "**ID** = PROC_TRACEINFO = it’s a unique code given to the product. Example : I-B-XA1207672-190701-00494.\n",
    "\n",
    "XA1207672 is the reference.\n",
    "190701 is the date: here 01st of July of year 2019.\n",
    "00494 is the unique code given to the product, whatever it happens, the product will have this id number frozen forever.\n",
    "This number is increased by 1 each time we process a new product, every 12s. So for example : I-B-XA1207672-190701-00495 is the next product.\n",
    "\n",
    "**Inputs** : Input features are measures collected on different assembly stations with the sensors or devices connected to Programmable Logic Controllers which are storing all of them to keep the full quality traceability. (Examples : OP070_V_1_angle_value, OP120_Rodage_I_value, etc…).\n",
    "\n",
    "**Output** : This is the result value of OP130 (test bench). Value 0 is assigned to OK samples (passed) and value 1 is assigned to KO samples (failed). This is the combined result of multiple electrical, acoustic and vibro-acoustic tests.\n",
    "\n",
    "**The target** is to find the best prediction : Output = f (inputs). The dataset contains 34515 training samples and 8001 test samples."
   ]
  },
  {
   "cell_type": "markdown",
   "metadata": {},
   "source": [
    "***"
   ]
  },
  {
   "cell_type": "markdown",
   "metadata": {},
   "source": [
    "# 2. Data Pre-processing"
   ]
  },
  {
   "cell_type": "code",
   "execution_count": 1,
   "metadata": {},
   "outputs": [],
   "source": [
    "from IPython.core.interactiveshell import InteractiveShell \n",
    "import matplotlib.pyplot as plt\n",
    "import seaborn as sns\n",
    "import pandas as pd\n",
    "import numpy as np\n",
    "import os\n",
    "nb_path = os.path.abspath(\".\")"
   ]
  },
  {
   "cell_type": "code",
   "execution_count": 2,
   "metadata": {},
   "outputs": [],
   "source": [
    "nb_path = os.path.abspath(\".\")\n",
    "InteractiveShell.ast_node_interactivity = \"all\"\n",
    "sns.set(color_codes=True)"
   ]
  },
  {
   "cell_type": "code",
   "execution_count": 3,
   "metadata": {},
   "outputs": [],
   "source": [
    "X_validation = pd.read_csv(os.path.join(nb_path,\"testinputs.csv\")) \n",
    "dataset = pd.read_csv(os.path.join(nb_path,\"traininginputs.csv\")).merge(pd.read_csv(os.path.join(nb_path,\"trainingoutput.csv\")), on=\"PROC_TRACEINFO\")"
   ]
  },
  {
   "cell_type": "code",
   "execution_count": 4,
   "metadata": {},
   "outputs": [],
   "source": [
    "target = \"Binar OP130_Resultat_Global_v\"\n",
    "code = \"PROC_TRACEINFO\"\n",
    "capuchon_measure = \"OP100_Capuchon_insertion_mesure\"\n",
    "selected_measures = ['OP070_V_1_angle_value','OP090_SnapRingPeakForce_value', 'OP090_SnapRingFinalStroke_value','OP070_V_1_torque_value','OP090_SnapRingMidPointForce_val', 'OP070_V_2_torque_value']"
   ]
  },
  {
   "cell_type": "code",
   "execution_count": 464,
   "metadata": {},
   "outputs": [
    {
     "data": {
      "text/html": [
       "<div>\n",
       "<style scoped>\n",
       "    .dataframe tbody tr th:only-of-type {\n",
       "        vertical-align: middle;\n",
       "    }\n",
       "\n",
       "    .dataframe tbody tr th {\n",
       "        vertical-align: top;\n",
       "    }\n",
       "\n",
       "    .dataframe thead th {\n",
       "        text-align: right;\n",
       "    }\n",
       "</style>\n",
       "<table border=\"1\" class=\"dataframe\">\n",
       "  <thead>\n",
       "    <tr style=\"text-align: right;\">\n",
       "      <th></th>\n",
       "      <th>PROC_TRACEINFO</th>\n",
       "      <th>OP070_V_1_angle_value</th>\n",
       "      <th>OP090_SnapRingPeakForce_value</th>\n",
       "      <th>OP070_V_2_angle_value</th>\n",
       "      <th>OP120_Rodage_I_mesure_value</th>\n",
       "      <th>OP090_SnapRingFinalStroke_value</th>\n",
       "      <th>OP110_Vissage_M8_torque_value</th>\n",
       "      <th>OP100_Capuchon_insertion_mesure</th>\n",
       "      <th>OP120_Rodage_U_mesure_value</th>\n",
       "      <th>OP070_V_1_torque_value</th>\n",
       "      <th>OP090_StartLinePeakForce_value</th>\n",
       "      <th>OP110_Vissage_M8_angle_value</th>\n",
       "      <th>OP090_SnapRingMidPointForce_val</th>\n",
       "      <th>OP070_V_2_torque_value</th>\n",
       "      <th>Binar OP130_Resultat_Global_v</th>\n",
       "    </tr>\n",
       "  </thead>\n",
       "  <tbody>\n",
       "    <tr>\n",
       "      <th>0</th>\n",
       "      <td>I-B-XA1207672-190429-00688</td>\n",
       "      <td>180.4</td>\n",
       "      <td>190.51</td>\n",
       "      <td>173.1</td>\n",
       "      <td>113.64</td>\n",
       "      <td>12.04</td>\n",
       "      <td>12.16</td>\n",
       "      <td>NaN</td>\n",
       "      <td>11.97</td>\n",
       "      <td>6.62</td>\n",
       "      <td>26.37</td>\n",
       "      <td>18.8</td>\n",
       "      <td>109.62</td>\n",
       "      <td>6.60</td>\n",
       "      <td>0</td>\n",
       "    </tr>\n",
       "    <tr>\n",
       "      <th>1</th>\n",
       "      <td>I-B-XA1207672-190828-00973</td>\n",
       "      <td>138.7</td>\n",
       "      <td>147.70</td>\n",
       "      <td>163.5</td>\n",
       "      <td>109.77</td>\n",
       "      <td>12.12</td>\n",
       "      <td>12.19</td>\n",
       "      <td>0.39</td>\n",
       "      <td>11.97</td>\n",
       "      <td>6.41</td>\n",
       "      <td>21.03</td>\n",
       "      <td>18.5</td>\n",
       "      <td>105.48</td>\n",
       "      <td>6.40</td>\n",
       "      <td>0</td>\n",
       "    </tr>\n",
       "    <tr>\n",
       "      <th>2</th>\n",
       "      <td>I-B-XA1207672-190712-03462</td>\n",
       "      <td>180.9</td>\n",
       "      <td>150.87</td>\n",
       "      <td>181.2</td>\n",
       "      <td>109.79</td>\n",
       "      <td>11.86</td>\n",
       "      <td>12.24</td>\n",
       "      <td>NaN</td>\n",
       "      <td>11.97</td>\n",
       "      <td>6.62</td>\n",
       "      <td>25.81</td>\n",
       "      <td>17.5</td>\n",
       "      <td>100.03</td>\n",
       "      <td>6.61</td>\n",
       "      <td>0</td>\n",
       "    </tr>\n",
       "    <tr>\n",
       "      <th>3</th>\n",
       "      <td>I-B-XA1207672-190803-00051</td>\n",
       "      <td>173.5</td>\n",
       "      <td>159.56</td>\n",
       "      <td>151.8</td>\n",
       "      <td>113.25</td>\n",
       "      <td>11.82</td>\n",
       "      <td>12.35</td>\n",
       "      <td>0.39</td>\n",
       "      <td>11.97</td>\n",
       "      <td>6.62</td>\n",
       "      <td>24.62</td>\n",
       "      <td>15.6</td>\n",
       "      <td>104.94</td>\n",
       "      <td>6.61</td>\n",
       "      <td>0</td>\n",
       "    </tr>\n",
       "    <tr>\n",
       "      <th>4</th>\n",
       "      <td>I-B-XA1207672-190508-03248</td>\n",
       "      <td>174.5</td>\n",
       "      <td>172.29</td>\n",
       "      <td>177.5</td>\n",
       "      <td>112.88</td>\n",
       "      <td>12.07</td>\n",
       "      <td>12.19</td>\n",
       "      <td>NaN</td>\n",
       "      <td>11.97</td>\n",
       "      <td>6.62</td>\n",
       "      <td>29.22</td>\n",
       "      <td>33.6</td>\n",
       "      <td>99.19</td>\n",
       "      <td>6.61</td>\n",
       "      <td>0</td>\n",
       "    </tr>\n",
       "    <tr>\n",
       "      <th>...</th>\n",
       "      <td>...</td>\n",
       "      <td>...</td>\n",
       "      <td>...</td>\n",
       "      <td>...</td>\n",
       "      <td>...</td>\n",
       "      <td>...</td>\n",
       "      <td>...</td>\n",
       "      <td>...</td>\n",
       "      <td>...</td>\n",
       "      <td>...</td>\n",
       "      <td>...</td>\n",
       "      <td>...</td>\n",
       "      <td>...</td>\n",
       "      <td>...</td>\n",
       "      <td>...</td>\n",
       "    </tr>\n",
       "    <tr>\n",
       "      <th>34510</th>\n",
       "      <td>I-B-XA1207672-190520-00031</td>\n",
       "      <td>158.2</td>\n",
       "      <td>168.40</td>\n",
       "      <td>180.6</td>\n",
       "      <td>110.65</td>\n",
       "      <td>11.88</td>\n",
       "      <td>12.23</td>\n",
       "      <td>NaN</td>\n",
       "      <td>11.98</td>\n",
       "      <td>6.61</td>\n",
       "      <td>24.03</td>\n",
       "      <td>14.8</td>\n",
       "      <td>98.76</td>\n",
       "      <td>6.61</td>\n",
       "      <td>0</td>\n",
       "    </tr>\n",
       "    <tr>\n",
       "      <th>34511</th>\n",
       "      <td>I-B-XA1207672-190906-00270</td>\n",
       "      <td>139.4</td>\n",
       "      <td>146.24</td>\n",
       "      <td>154.5</td>\n",
       "      <td>108.14</td>\n",
       "      <td>12.04</td>\n",
       "      <td>12.27</td>\n",
       "      <td>0.41</td>\n",
       "      <td>11.97</td>\n",
       "      <td>6.41</td>\n",
       "      <td>21.52</td>\n",
       "      <td>15.5</td>\n",
       "      <td>98.37</td>\n",
       "      <td>6.40</td>\n",
       "      <td>0</td>\n",
       "    </tr>\n",
       "    <tr>\n",
       "      <th>34512</th>\n",
       "      <td>I-B-XA1207672-190429-00930</td>\n",
       "      <td>165.5</td>\n",
       "      <td>157.34</td>\n",
       "      <td>149.8</td>\n",
       "      <td>112.77</td>\n",
       "      <td>12.09</td>\n",
       "      <td>12.17</td>\n",
       "      <td>NaN</td>\n",
       "      <td>11.97</td>\n",
       "      <td>6.62</td>\n",
       "      <td>22.65</td>\n",
       "      <td>24.4</td>\n",
       "      <td>92.92</td>\n",
       "      <td>6.62</td>\n",
       "      <td>0</td>\n",
       "    </tr>\n",
       "    <tr>\n",
       "      <th>34513</th>\n",
       "      <td>I-B-XA1207672-190424-02120</td>\n",
       "      <td>152.4</td>\n",
       "      <td>165.07</td>\n",
       "      <td>140.0</td>\n",
       "      <td>111.19</td>\n",
       "      <td>12.06</td>\n",
       "      <td>12.34</td>\n",
       "      <td>NaN</td>\n",
       "      <td>11.97</td>\n",
       "      <td>6.60</td>\n",
       "      <td>20.77</td>\n",
       "      <td>13.6</td>\n",
       "      <td>101.21</td>\n",
       "      <td>6.60</td>\n",
       "      <td>0</td>\n",
       "    </tr>\n",
       "    <tr>\n",
       "      <th>34514</th>\n",
       "      <td>I-B-XA1207672-190712-03433</td>\n",
       "      <td>197.8</td>\n",
       "      <td>150.37</td>\n",
       "      <td>190.3</td>\n",
       "      <td>113.81</td>\n",
       "      <td>11.84</td>\n",
       "      <td>12.23</td>\n",
       "      <td>NaN</td>\n",
       "      <td>11.97</td>\n",
       "      <td>6.47</td>\n",
       "      <td>26.43</td>\n",
       "      <td>21.5</td>\n",
       "      <td>102.72</td>\n",
       "      <td>6.62</td>\n",
       "      <td>0</td>\n",
       "    </tr>\n",
       "  </tbody>\n",
       "</table>\n",
       "<p>34515 rows × 15 columns</p>\n",
       "</div>"
      ],
      "text/plain": [
       "                   PROC_TRACEINFO  OP070_V_1_angle_value  \\\n",
       "0      I-B-XA1207672-190429-00688                  180.4   \n",
       "1      I-B-XA1207672-190828-00973                  138.7   \n",
       "2      I-B-XA1207672-190712-03462                  180.9   \n",
       "3      I-B-XA1207672-190803-00051                  173.5   \n",
       "4      I-B-XA1207672-190508-03248                  174.5   \n",
       "...                           ...                    ...   \n",
       "34510  I-B-XA1207672-190520-00031                  158.2   \n",
       "34511  I-B-XA1207672-190906-00270                  139.4   \n",
       "34512  I-B-XA1207672-190429-00930                  165.5   \n",
       "34513  I-B-XA1207672-190424-02120                  152.4   \n",
       "34514  I-B-XA1207672-190712-03433                  197.8   \n",
       "\n",
       "       OP090_SnapRingPeakForce_value  OP070_V_2_angle_value  \\\n",
       "0                             190.51                  173.1   \n",
       "1                             147.70                  163.5   \n",
       "2                             150.87                  181.2   \n",
       "3                             159.56                  151.8   \n",
       "4                             172.29                  177.5   \n",
       "...                              ...                    ...   \n",
       "34510                         168.40                  180.6   \n",
       "34511                         146.24                  154.5   \n",
       "34512                         157.34                  149.8   \n",
       "34513                         165.07                  140.0   \n",
       "34514                         150.37                  190.3   \n",
       "\n",
       "       OP120_Rodage_I_mesure_value  OP090_SnapRingFinalStroke_value  \\\n",
       "0                           113.64                            12.04   \n",
       "1                           109.77                            12.12   \n",
       "2                           109.79                            11.86   \n",
       "3                           113.25                            11.82   \n",
       "4                           112.88                            12.07   \n",
       "...                            ...                              ...   \n",
       "34510                       110.65                            11.88   \n",
       "34511                       108.14                            12.04   \n",
       "34512                       112.77                            12.09   \n",
       "34513                       111.19                            12.06   \n",
       "34514                       113.81                            11.84   \n",
       "\n",
       "       OP110_Vissage_M8_torque_value  OP100_Capuchon_insertion_mesure  \\\n",
       "0                              12.16                              NaN   \n",
       "1                              12.19                             0.39   \n",
       "2                              12.24                              NaN   \n",
       "3                              12.35                             0.39   \n",
       "4                              12.19                              NaN   \n",
       "...                              ...                              ...   \n",
       "34510                          12.23                              NaN   \n",
       "34511                          12.27                             0.41   \n",
       "34512                          12.17                              NaN   \n",
       "34513                          12.34                              NaN   \n",
       "34514                          12.23                              NaN   \n",
       "\n",
       "       OP120_Rodage_U_mesure_value  OP070_V_1_torque_value  \\\n",
       "0                            11.97                    6.62   \n",
       "1                            11.97                    6.41   \n",
       "2                            11.97                    6.62   \n",
       "3                            11.97                    6.62   \n",
       "4                            11.97                    6.62   \n",
       "...                            ...                     ...   \n",
       "34510                        11.98                    6.61   \n",
       "34511                        11.97                    6.41   \n",
       "34512                        11.97                    6.62   \n",
       "34513                        11.97                    6.60   \n",
       "34514                        11.97                    6.47   \n",
       "\n",
       "       OP090_StartLinePeakForce_value  OP110_Vissage_M8_angle_value  \\\n",
       "0                               26.37                          18.8   \n",
       "1                               21.03                          18.5   \n",
       "2                               25.81                          17.5   \n",
       "3                               24.62                          15.6   \n",
       "4                               29.22                          33.6   \n",
       "...                               ...                           ...   \n",
       "34510                           24.03                          14.8   \n",
       "34511                           21.52                          15.5   \n",
       "34512                           22.65                          24.4   \n",
       "34513                           20.77                          13.6   \n",
       "34514                           26.43                          21.5   \n",
       "\n",
       "       OP090_SnapRingMidPointForce_val  OP070_V_2_torque_value  \\\n",
       "0                               109.62                    6.60   \n",
       "1                               105.48                    6.40   \n",
       "2                               100.03                    6.61   \n",
       "3                               104.94                    6.61   \n",
       "4                                99.19                    6.61   \n",
       "...                                ...                     ...   \n",
       "34510                            98.76                    6.61   \n",
       "34511                            98.37                    6.40   \n",
       "34512                            92.92                    6.62   \n",
       "34513                           101.21                    6.60   \n",
       "34514                           102.72                    6.62   \n",
       "\n",
       "       Binar OP130_Resultat_Global_v  \n",
       "0                                  0  \n",
       "1                                  0  \n",
       "2                                  0  \n",
       "3                                  0  \n",
       "4                                  0  \n",
       "...                              ...  \n",
       "34510                              0  \n",
       "34511                              0  \n",
       "34512                              0  \n",
       "34513                              0  \n",
       "34514                              0  \n",
       "\n",
       "[34515 rows x 15 columns]"
      ]
     },
     "execution_count": 464,
     "metadata": {},
     "output_type": "execute_result"
    }
   ],
   "source": [
    "dataset"
   ]
  },
  {
   "cell_type": "markdown",
   "metadata": {},
   "source": [
    "## Data Splitting"
   ]
  },
  {
   "cell_type": "code",
   "execution_count": 5,
   "metadata": {},
   "outputs": [],
   "source": [
    "from sklearn.model_selection import train_test_split"
   ]
  },
  {
   "cell_type": "code",
   "execution_count": 6,
   "metadata": {},
   "outputs": [],
   "source": [
    "trainset, testset = train_test_split(dataset, test_size=0.2, random_state=0)"
   ]
  },
  {
   "cell_type": "markdown",
   "metadata": {},
   "source": [
    "## Pre-processing Steps"
   ]
  },
  {
   "cell_type": "code",
   "execution_count": 7,
   "metadata": {},
   "outputs": [],
   "source": [
    "# X_resampled, y_resampled = SMOTE().fit_resample(X, y)\n",
    "# print(sorted(Counter(y_resampled).items()))\n",
    "\n",
    "# clf_smote = LinearSVC().fit(X_resampled, y_resampled)\n",
    "# X_resampled, y_resampled = ADASYN().fit_resample(X, y)\n",
    "# print(sorted(Counter(y_resampled).items()))\n",
    "\n",
    "# clf_adasyn = LinearSVC().fit(X_resampled, y_resampled)"
   ]
  },
  {
   "cell_type": "code",
   "execution_count": 8,
   "metadata": {},
   "outputs": [],
   "source": [
    "def removing_outliers(df):\n",
    "#     from sklearn.ensemble import isolationforest\n",
    "    \n",
    "#     iso = IsolationForest(contamination=0.1)\n",
    "#     yhat = iso.fit_predict(X_train)\n",
    "#     mask = yhat != -1\n",
    "#     X_train, y_train = X_train[mask, :], y_train[mask]\n",
    "    \n",
    "    return df"
   ]
  },
  {
   "cell_type": "code",
   "execution_count": 9,
   "metadata": {},
   "outputs": [
    {
     "ename": "SyntaxError",
     "evalue": "unexpected EOF while parsing (<ipython-input-9-e8816d0a069b>, line 2)",
     "output_type": "error",
     "traceback": [
      "\u001b[0;36m  File \u001b[0;32m\"<ipython-input-9-e8816d0a069b>\"\u001b[0;36m, line \u001b[0;32m2\u001b[0m\n\u001b[0;31m    \u001b[0m\n\u001b[0m    ^\u001b[0m\n\u001b[0;31mSyntaxError\u001b[0m\u001b[0;31m:\u001b[0m unexpected EOF while parsing\n"
     ]
    }
   ],
   "source": [
    "# def feature_engineering(df):"
   ]
  },
  {
   "cell_type": "code",
   "execution_count": 15,
   "metadata": {},
   "outputs": [],
   "source": [
    "def rebalancing(df):\n",
    "    \n",
    "#     # undersampling\n",
    "#     df = df.sample(frac=1, random_state=0) # Lets shuffle the data before creating the subsamples\n",
    "    \n",
    "#     ko_df = df[df[target]==1]\n",
    "#     ok_df = df[df[target]==0][:ko_df.shape[0]]  # amount of KO classes ko_df.shape[0] rows.\n",
    "    \n",
    "#     df = pd.concat([ok_df,ko_df], axis=0)\n",
    "    \n",
    "    return df"
   ]
  },
  {
   "cell_type": "code",
   "execution_count": 16,
   "metadata": {},
   "outputs": [],
   "source": [
    "def imputation(df):\n",
    "    #df[\"is na\"] = df[\"OP100_Capuchon_insertion_mesure\"].isna()\n",
    "    # outliers handling\n",
    "    # fill na with smote??? make sense?\n",
    "    # fill na with knn\n",
    "#     df = df.dropna(axis=0)\n",
    "    \n",
    "    df = df.drop(\"OP100_Capuchon_insertion_mesure\", axis=1)\n",
    "    return df"
   ]
  },
  {
   "cell_type": "code",
   "execution_count": 17,
   "metadata": {},
   "outputs": [],
   "source": [
    "def preprocessing(df):\n",
    "    df = imputation(df)\n",
    "#     df = rebalancing(df)\n",
    "    \n",
    "    X = df.drop([target,code], axis=1)\n",
    "    y = df[target]\n",
    "    \n",
    "#     X = df[selected_measures]\n",
    "#     y = df[target]\n",
    "\n",
    "#     X = df[['OP070_V_1_torque_value','OP070_V_2_torque_value']]\n",
    "#     y = df[target]\n",
    "\n",
    "    \n",
    "    print(y.value_counts())\n",
    "    \n",
    "    return X, y"
   ]
  },
  {
   "cell_type": "code",
   "execution_count": 18,
   "metadata": {},
   "outputs": [
    {
     "name": "stdout",
     "output_type": "stream",
     "text": [
      "0    27374\n",
      "1      238\n",
      "Name: Binar OP130_Resultat_Global_v, dtype: int64\n",
      "0    6836\n",
      "1      67\n",
      "Name: Binar OP130_Resultat_Global_v, dtype: int64\n"
     ]
    }
   ],
   "source": [
    "X_train, y_train = preprocessing(trainset)\n",
    "X_test, y_test = preprocessing(testset)"
   ]
  },
  {
   "cell_type": "code",
   "execution_count": null,
   "metadata": {},
   "outputs": [],
   "source": [
    "X_train.head()"
   ]
  },
  {
   "cell_type": "code",
   "execution_count": 20,
   "metadata": {},
   "outputs": [
    {
     "data": {
      "text/plain": [
       "20907    0\n",
       "26482    0\n",
       "22105    0\n",
       "25164    0\n",
       "991      0\n",
       "Name: Binar OP130_Resultat_Global_v, dtype: int64"
      ]
     },
     "execution_count": 20,
     "metadata": {},
     "output_type": "execute_result"
    }
   ],
   "source": [
    "y_train.head()"
   ]
  },
  {
   "cell_type": "markdown",
   "metadata": {},
   "source": [
    "# 3. Model Building"
   ]
  },
  {
   "cell_type": "code",
   "execution_count": 10,
   "metadata": {},
   "outputs": [],
   "source": [
    "from sklearn.tree import DecisionTreeClassifier\n",
    "from sklearn.ensemble import RandomForestClassifier, AdaBoostClassifier, BaggingClassifier, StackingClassifier\n",
    "from sklearn.svm import SVC\n",
    "from sklearn.linear_model import LogisticRegression, SGDClassifier\n",
    "from sklearn.naive_bayes import GaussianNB\n",
    "from sklearn.neighbors import KNeighborsClassifier\n",
    "from sklearn.neural_network import MLPClassifier\n",
    "from xgboost import XGBClassifier\n",
    "from imblearn.ensemble import BalancedRandomForestClassifier\n",
    "\n",
    "from sklearn.preprocessing import StandardScaler, RobustScaler, PolynomialFeatures\n",
    "from sklearn.decomposition import PCA\n",
    "from sklearn.impute import SimpleImputer, KNNImputer, MissingIndicator\n",
    "from sklearn.feature_selection import SelectKBest, f_classif\n",
    "from imblearn.pipeline import make_pipeline\n",
    "from imblearn.under_sampling import RandomUnderSampler\n",
    "from imblearn.over_sampling import RandomOverSampler, SMOTE, ADASYN, BorderlineSMOTE, KMeansSMOTE, SMOTENC, SVMSMOTE\n",
    "from imblearn.combine import SMOTEENN, SMOTETomek\n",
    "\n",
    "from sklearn.model_selection import GridSearchCV, RandomizedSearchCV"
   ]
  },
  {
   "cell_type": "code",
   "execution_count": 141,
   "metadata": {},
   "outputs": [],
   "source": [
    "preprocessor = make_pipeline(RandomUnderSampler(random_state=0), StandardScaler(), SelectKBest(f_classif))"
   ]
  },
  {
   "cell_type": "code",
   "execution_count": null,
   "metadata": {},
   "outputs": [],
   "source": [
    "# best performer: auc=0.6609422897216668\n",
    "# prepro: drop capuchon\n",
    "# model = make_pipeline(RandomUnderSampler(random_state=0), SelectKBest(f_classif, k=7), LogisticRegression(random_state=0))\n",
    "\n",
    "# 2nd performer: auc: 0.6406688034374645\n",
    "# prepro:drop capuchon\n",
    "# better training score than LR\n",
    "# model = make_pipeline(RandomUnderSampler(sampling_strategy=1,random_state=0), StandardScaler(), SelectKBest(f_classif, k=10), SVC(random_state=0, kernel='rbf'))\n",
    "\n",
    "XGB = make_pipeline(SelectKBest(f_classif, k=\"all\"), XGBClassifier(random_state=0, n_jobs=-1, scale_pos_weight=100))\n",
    "                                                                                                                                               \n",
    "\n",
    "# model = make_pipeline(RandomUnderSampler(random_state=0), RobustScaler(), SelectKBest(f_classif, k=9), BaggingClassifier(base_estimator=SVC(random_state=0), n_estimators=100, n_jobs=-1))\n",
    "\n",
    "# SVM = make_pipeline(RandomUnderSampler(random_state=0), StandardScaler(), SelectKBest(f_classif), SVC(random_state=0))\n",
    "# LR = make_pipeline(RandomUnderSampler(random_state=0), StandardScaler(), SelectKBest(f_classif), LogisticRegression(random_state=0, n_jobs=-1))\n",
    "# NB = make_pipeline(preprocessor, GaussianNB())\n",
    "# RF = make_pipeline(preprocessor, RandomForestClassifier(random_state=0))\n",
    "\n",
    "# model = make_pipeline(SMOTETomek(random_state=0, n_jobs=-1), StandardScaler(), SelectKBest(f_classif, k=10), SVC(random_state=0, kernel='rbf'))\n",
    "# model = make_pipeline(RandomUnderSampler(random_state=0), SelectKBest(f_classif, k=9), RandomForestClassifier(random_state=0))\n",
    "# model = make_pipeline(RandomUnderSampler(random_state=0), PolynomialFeatures(), SelectKBest(f_classif, k='all'), RandomForestClassifier(random_state=0))\n",
    "# model = make_pipeline(RandomUnderSampler(random_state=0), PolynomialFeatures(), PCA(n_components=10, random_state=0), RandomForestClassifier(random_state=0))\n",
    "# model = make_pipeline(RandomUnderSampler(random_state=0), StandardScaler(), SelectKBest(f_classif, k=9), XGBClassifier())\n",
    "# model = make_pipeline(SMOTE(random_state=0, n_jobs=-1), RandomForestClassifier(random_state=0))\n",
    "# model = DecisionTreeClassifier(random_state=0)\n",
    "# model = RandomForestClassifier(random_state=0)"
   ]
  },
  {
   "cell_type": "code",
   "execution_count": 71,
   "metadata": {},
   "outputs": [],
   "source": [
    "# hyper_params = {'svc__gamma':[1e-1, 1e-2,1e-3,'scale'], \n",
    "#                 'svc__C':[1, 10, 100],\n",
    "#                 'svc__kernel':['linear', 'poly', 'rbf', 'sigmoid'],\n",
    "#                 'svc__degree':[2,3],\n",
    "#                 'selectkbest__k':[7,8,10,12,13,\"all\"]\n",
    "#                 }\n",
    "# {'selectkbest__k': 12, 'svc__C': 10, 'svc__degree': 2, 'svc__gamma': 0.01, 'svc__kernel': 'rbf'}\n",
    "# 0.600793210658236\n",
    "\n",
    "\n",
    "# hyper_params = {'logisticregression__penalty':['l1','l2','elasticnet','none'], \n",
    "#                 'logisticregression__C':[0.1, 1, 10],\n",
    "#                 'logisticregression__solver' : ['newton-cg', 'lbfgs', 'liblinear', 'sag', 'saga'] ,\n",
    "#                 'selectkbest__k':[7,8,10,12,13,\"all\"]\n",
    "#                 }\n",
    "# {'logisticregression__C': 1, 'logisticregression__penalty': 'l1', 'logisticregression__solver': 'liblinear', 'selectkbest__k': 12}\n",
    "# 0.6288197689143515\n",
    "\n",
    "param_test1 = {\n",
    " 'max_depth':range(3,10,2),\n",
    " 'min_child_weight':range(1,6,2)\n",
    "}"
   ]
  },
  {
   "cell_type": "code",
   "execution_count": 448,
   "metadata": {},
   "outputs": [
    {
     "data": {
      "text/plain": [
       "GridSearchCV(cv=4,\n",
       "             estimator=Pipeline(steps=[('randomundersampler',\n",
       "                                        RandomUnderSampler(random_state=0)),\n",
       "                                       ('standardscaler', StandardScaler()),\n",
       "                                       ('selectkbest', SelectKBest()),\n",
       "                                       ('logisticregression',\n",
       "                                        LogisticRegression(n_jobs=-1,\n",
       "                                                           random_state=0))]),\n",
       "             n_jobs=-1,\n",
       "             param_grid={'logisticregression__C': [0.1, 1, 10],\n",
       "                         'logisticregression__penalty': ['l1', 'l2',\n",
       "                                                         'elasticnet', 'none'],\n",
       "                         'logisticregression__solver': ['newton-cg', 'lbfgs',\n",
       "                                                        'liblinear', 'sag',\n",
       "                                                        'saga'],\n",
       "                         'selectkbest__k': [7, 8, 10, 12, 13, 'all']},\n",
       "             scoring='roc_auc')"
      ]
     },
     "execution_count": 448,
     "metadata": {},
     "output_type": "execute_result"
    },
    {
     "name": "stdout",
     "output_type": "stream",
     "text": [
      "{'logisticregression__C': 1, 'logisticregression__penalty': 'l1', 'logisticregression__solver': 'liblinear', 'selectkbest__k': 12}\n",
      "0.6288197689143515\n",
      "              precision    recall  f1-score   support\n",
      "\n",
      "           0       0.99      0.65      0.78      6836\n",
      "           1       0.02      0.61      0.03        67\n",
      "\n",
      "    accuracy                           0.65      6903\n",
      "   macro avg       0.51      0.63      0.41      6903\n",
      "weighted avg       0.98      0.65      0.78      6903\n",
      "\n"
     ]
    }
   ],
   "source": [
    "grid = GridSearchCV(LR, hyper_params, scoring='roc_auc', n_jobs=-1, cv=4)\n",
    "\n",
    "grid.fit(X_train, y_train)\n",
    "\n",
    "print(grid.best_params_)\n",
    "\n",
    "y_pred = grid.predict(X_test)\n",
    "\n",
    "print(roc_auc_score(y_test, y_pred))\n",
    "print(classification_report(y_test, y_pred))\n"
   ]
  },
  {
   "cell_type": "code",
   "execution_count": null,
   "metadata": {},
   "outputs": [],
   "source": [
    "from sklearn.metrics import f1_score, confusion_matrix, classification_report, roc_auc_score, roc_curve\n",
    "from sklearn.model_selection import learning_curve\n",
    "from imblearn.metrics import classification_report_imbalanced"
   ]
  },
  {
   "cell_type": "code",
   "execution_count": null,
   "metadata": {},
   "outputs": [],
   "source": [
    "def evaluation(model):\n",
    "    model.fit(X_train, y_train)\n",
    "    y_pred = model.predict(X_test)\n",
    "    \n",
    "    print(roc_auc_score(y_test, y_pred))\n",
    "    print(confusion_matrix(y_test, y_pred))\n",
    "    print(classification_report(y_test, y_pred))\n",
    "#     print(classification_report_imbalanced(y_test, y_pred))\n",
    "    \n",
    "    N, train_score, val_score = learning_curve(model, X_train, y_train,\n",
    "                                          cv=4, scoring='roc_auc',\n",
    "                                               train_sizes=np.linspace(0.1, 1, 10), n_jobs=-1)\n",
    "    plt.figure(figsize=(12, 8))\n",
    "    plt.plot(N, train_score.mean(axis=1), label='train score')\n",
    "    plt.plot(N, val_score.mean(axis=1), label='validation score')\n",
    "    plt.legend()\n",
    "    "
   ]
  },
  {
   "cell_type": "code",
   "execution_count": null,
   "metadata": {},
   "outputs": [],
   "source": [
    "import warnings\n",
    "warnings.filterwarnings('ignore')\n",
    "\n",
    "evaluation(model)\n",
    "# evaluation(grid.best_estimator_)"
   ]
  },
  {
   "cell_type": "code",
   "execution_count": 70,
   "metadata": {},
   "outputs": [
    {
     "data": {
      "text/plain": [
       "<AxesSubplot:>"
      ]
     },
     "execution_count": 70,
     "metadata": {},
     "output_type": "execute_result"
    },
    {
     "data": {
      "image/png": "[encoded data removed]",
      "text/plain": [
       "<Figure size 432x288 with 1 Axes>"
      ]
     },
     "metadata": {},
     "output_type": "display_data"
    }
   ],
   "source": [
    "# pd.DataFrame(model.feature_importances_, index=X_train.columns).plot.bar()\n",
    "pd.DataFrame(model.named_steps[\"xgbclassifier\"].feature_importances_, index=X_train.columns).plot.bar()"
   ]
  },
  {
   "cell_type": "markdown",
   "metadata": {},
   "source": [
    "### XGBOOST tuning"
   ]
  },
  {
   "cell_type": "code",
   "execution_count": 118,
   "metadata": {},
   "outputs": [
    {
     "data": {
      "text/plain": [
       "GridSearchCV(cv=5,\n",
       "             estimator=XGBClassifier(base_score=None, booster=None,\n",
       "                                     colsample_bylevel=None,\n",
       "                                     colsample_bynode=None,\n",
       "                                     colsample_bytree=0.9, gamma=0.3,\n",
       "                                     gpu_id=None, importance_type='gain',\n",
       "                                     interaction_constraints=None,\n",
       "                                     learning_rate=0.1, max_delta_step=None,\n",
       "                                     max_depth=2, min_child_weight=1.5,\n",
       "                                     missing=nan, monotone_constraints=None,\n",
       "                                     n_estimators=140, n_jobs=None, nthread=4,\n",
       "                                     num_parallel_tree=None, random_state=0,\n",
       "                                     reg_alpha=0.01, reg_lambda=None,\n",
       "                                     scale_pos_weight=100, seed=27,\n",
       "                                     subsample=0.6, tree_method=None,\n",
       "                                     validate_parameters=None, verbosity=None),\n",
       "             iid=False, n_jobs=-1,\n",
       "             param_grid={'learning_rate': [0.01],\n",
       "                         'n_estimators': [110, 90, 100, 95, 105]},\n",
       "             scoring='roc_auc')"
      ]
     },
     "execution_count": 118,
     "metadata": {},
     "output_type": "execute_result"
    },
    {
     "data": {
      "text/plain": [
       "({'learning_rate': 0.01, 'n_estimators': 95}, 0.6563860063236324)"
      ]
     },
     "execution_count": 118,
     "metadata": {},
     "output_type": "execute_result"
    }
   ],
   "source": [
    "param_test1 = {\n",
    "\n",
    "}\n",
    "\n",
    "gsearch1 = GridSearchCV(estimator = XGBClassifier( random_state=0, learning_rate =0.01, n_estimators=95, max_depth=2,\n",
    " min_child_weight=1.5, gamma=0.3, subsample=0.6, colsample_bytree=0.9,\n",
    " objective= 'binary:logistic', nthread=4, scale_pos_weight=100, seed=27, reg_alpha=0.01), \n",
    " param_grid = param_test1, scoring='roc_auc',n_jobs=-1,iid=False, cv=5)\n",
    "\n",
    "gsearch1.fit(X_train,y_train)\n",
    "gsearch1.best_params_, gsearch1.best_score_"
   ]
  },
  {
   "cell_type": "code",
   "execution_count": 107,
   "metadata": {},
   "outputs": [
    {
     "data": {
      "text/plain": [
       "[1.0, 1.1, 1.2, 1.3, 1.4]"
      ]
     },
     "execution_count": 107,
     "metadata": {},
     "output_type": "execute_result"
    }
   ],
   "source": [
    "[i/10.0 for i in range(10,15)]"
   ]
  },
  {
   "cell_type": "code",
   "execution_count": 101,
   "metadata": {},
   "outputs": [
    {
     "data": {
      "text/plain": [
       "<AxesSubplot:>"
      ]
     },
     "execution_count": 101,
     "metadata": {},
     "output_type": "execute_result"
    },
    {
     "data": {
      "image/png": "[encoded data removed]",
      "text/plain": [
       "<Figure size 432x288 with 1 Axes>"
      ]
     },
     "metadata": {},
     "output_type": "display_data"
    }
   ],
   "source": [
    "pd.DataFrame(gsearch1.best_estimator_.feature_importances_, index=X_train.columns).plot.bar()"
   ]
  },
  {
   "cell_type": "markdown",
   "metadata": {},
   "source": [
    "best score:  0.6563860063236324"
   ]
  },
  {
   "cell_type": "markdown",
   "metadata": {},
   "source": [
    "best params:\n",
    "'max_depth':2,\n",
    "'min_child_weight':1.5\n",
    "'gamma': 0.3\n",
    "subsample=0.6\n",
    "colsample_bytree=0.9\n",
    "reg_alpha': 0.01\n",
    "'learning_rate': 0.01"
   ]
  },
  {
   "cell_type": "code",
   "execution_count": null,
   "metadata": {},
   "outputs": [],
   "source": []
  },
  {
   "cell_type": "markdown",
   "metadata": {},
   "source": [
    "# Test set prediction"
   ]
  },
  {
   "cell_type": "code",
   "execution_count": 455,
   "metadata": {},
   "outputs": [
    {
     "data": {
      "text/plain": [
       "Pipeline(steps=[('randomundersampler', RandomUnderSampler(random_state=0)),\n",
       "                ('standardscaler', StandardScaler()),\n",
       "                ('selectkbest', SelectKBest(k=12)),\n",
       "                ('logisticregression',\n",
       "                 LogisticRegression(C=1, n_jobs=-1, penalty='l1',\n",
       "                                    random_state=0, solver='liblinear'))])"
      ]
     },
     "execution_count": 455,
     "metadata": {},
     "output_type": "execute_result"
    }
   ],
   "source": [
    "model_final = grid.best_estimator_\n",
    "model_final.fit(X_train, y_train)\n",
    "y_pred = model_final.predict(X_validation.drop([code,\"OP100_Capuchon_insertion_mesure\"], axis=1))"
   ]
  },
  {
   "cell_type": "code",
   "execution_count": 463,
   "metadata": {},
   "outputs": [
    {
     "data": {
      "text/plain": [
       "8001"
      ]
     },
     "execution_count": 463,
     "metadata": {},
     "output_type": "execute_result"
    }
   ],
   "source": [
    "y_pred"
   ]
  },
  {
   "cell_type": "code",
   "execution_count": 474,
   "metadata": {},
   "outputs": [],
   "source": [
    "df_submission = X_validation[[code]]\n",
    "df_submission.insert(loc=1, column=target, value= y_pred)"
   ]
  },
  {
   "cell_type": "code",
   "execution_count": 475,
   "metadata": {},
   "outputs": [
    {
     "data": {
      "text/html": [
       "<div>\n",
       "<style scoped>\n",
       "    .dataframe tbody tr th:only-of-type {\n",
       "        vertical-align: middle;\n",
       "    }\n",
       "\n",
       "    .dataframe tbody tr th {\n",
       "        vertical-align: top;\n",
       "    }\n",
       "\n",
       "    .dataframe thead th {\n",
       "        text-align: right;\n",
       "    }\n",
       "</style>\n",
       "<table border=\"1\" class=\"dataframe\">\n",
       "  <thead>\n",
       "    <tr style=\"text-align: right;\">\n",
       "      <th></th>\n",
       "      <th>PROC_TRACEINFO</th>\n",
       "      <th>Binar OP130_Resultat_Global_v</th>\n",
       "    </tr>\n",
       "  </thead>\n",
       "  <tbody>\n",
       "    <tr>\n",
       "      <th>0</th>\n",
       "      <td>I-B-XA1207672-190520-00632</td>\n",
       "      <td>0</td>\n",
       "    </tr>\n",
       "    <tr>\n",
       "      <th>1</th>\n",
       "      <td>I-B-XA1207672-190508-03689</td>\n",
       "      <td>1</td>\n",
       "    </tr>\n",
       "    <tr>\n",
       "      <th>2</th>\n",
       "      <td>I-B-XA1207672-190715-00577</td>\n",
       "      <td>1</td>\n",
       "    </tr>\n",
       "    <tr>\n",
       "      <th>3</th>\n",
       "      <td>I-B-XA1207672-190503-00796</td>\n",
       "      <td>0</td>\n",
       "    </tr>\n",
       "    <tr>\n",
       "      <th>4</th>\n",
       "      <td>I-B-XA1207672-190712-01837</td>\n",
       "      <td>1</td>\n",
       "    </tr>\n",
       "    <tr>\n",
       "      <th>...</th>\n",
       "      <td>...</td>\n",
       "      <td>...</td>\n",
       "    </tr>\n",
       "    <tr>\n",
       "      <th>7996</th>\n",
       "      <td>I-B-XA1207672-190905-03031</td>\n",
       "      <td>1</td>\n",
       "    </tr>\n",
       "    <tr>\n",
       "      <th>7997</th>\n",
       "      <td>I-B-XA1207672-190531-00225</td>\n",
       "      <td>0</td>\n",
       "    </tr>\n",
       "    <tr>\n",
       "      <th>7998</th>\n",
       "      <td>I-B-XA1207672-190424-03040</td>\n",
       "      <td>1</td>\n",
       "    </tr>\n",
       "    <tr>\n",
       "      <th>7999</th>\n",
       "      <td>I-B-XA1207672-190715-00155</td>\n",
       "      <td>0</td>\n",
       "    </tr>\n",
       "    <tr>\n",
       "      <th>8000</th>\n",
       "      <td>I-B-XA1207672-190503-00995</td>\n",
       "      <td>0</td>\n",
       "    </tr>\n",
       "  </tbody>\n",
       "</table>\n",
       "<p>8001 rows × 2 columns</p>\n",
       "</div>"
      ],
      "text/plain": [
       "                  PROC_TRACEINFO  Binar OP130_Resultat_Global_v\n",
       "0     I-B-XA1207672-190520-00632                              0\n",
       "1     I-B-XA1207672-190508-03689                              1\n",
       "2     I-B-XA1207672-190715-00577                              1\n",
       "3     I-B-XA1207672-190503-00796                              0\n",
       "4     I-B-XA1207672-190712-01837                              1\n",
       "...                          ...                            ...\n",
       "7996  I-B-XA1207672-190905-03031                              1\n",
       "7997  I-B-XA1207672-190531-00225                              0\n",
       "7998  I-B-XA1207672-190424-03040                              1\n",
       "7999  I-B-XA1207672-190715-00155                              0\n",
       "8000  I-B-XA1207672-190503-00995                              0\n",
       "\n",
       "[8001 rows x 2 columns]"
      ]
     },
     "execution_count": 475,
     "metadata": {},
     "output_type": "execute_result"
    }
   ],
   "source": [
    "df_submission"
   ]
  },
  {
   "cell_type": "code",
   "execution_count": 481,
   "metadata": {},
   "outputs": [],
   "source": [
    "df_submission.set_index(code).to_csv('submission.csv')"
   ]
  },
  {
   "cell_type": "code",
   "execution_count": null,
   "metadata": {},
   "outputs": [],
   "source": []
  }
 ],
 "metadata": {
  "kernelspec": {
   "display_name": "Python 3",
   "language": "python",
   "name": "python3"
  },
  "language_info": {
   "codemirror_mode": {
    "name": "ipython",
    "version": 3
   },
   "file_extension": ".py",
   "mimetype": "text/x-python",
   "name": "python",
   "nbconvert_exporter": "python",
   "pygments_lexer": "ipython3",
   "version": "3.8.2"
  }
 },
 "nbformat": 4,
 "nbformat_minor": 4
}
